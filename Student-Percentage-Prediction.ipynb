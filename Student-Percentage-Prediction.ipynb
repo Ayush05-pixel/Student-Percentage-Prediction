{
 "cells": [
  {
   "cell_type": "markdown",
   "id": "647d5223",
   "metadata": {},
   "source": [
    "# GRIP - THE SPARK FOUNDATION"
   ]
  },
  {
   "cell_type": "markdown",
   "id": "54d200ac",
   "metadata": {},
   "source": [
    "DATA SCIENCE AND BUISNESS ANALYTICS INTERNSHIP"
   ]
  },
  {
   "cell_type": "markdown",
   "id": "ce4563d6",
   "metadata": {},
   "source": [
    "Linear Regression with Python Scikit Learn - Prediction using Supervised ML"
   ]
  },
  {
   "cell_type": "markdown",
   "id": "fbfeea08",
   "metadata": {},
   "source": [
    "### AYUSH DILIP PADVEKAR"
   ]
  },
  {
   "cell_type": "markdown",
   "id": "2bd04c70",
   "metadata": {},
   "source": [
    "Task-1: Predict the percentage of an student based on the no. of study hours"
   ]
  },
  {
   "cell_type": "raw",
   "id": "dbaa72c1",
   "metadata": {},
   "source": [
    "In this regression task we will predict the percentage of marks that a student is expected to score based on the number of hours the studied. this is a simple linear regression task as it involves just two variables."
   ]
  },
  {
   "cell_type": "markdown",
   "id": "28314a77",
   "metadata": {},
   "source": [
    "### Import the required Libraries"
   ]
  },
  {
   "cell_type": "code",
   "execution_count": 3,
   "id": "61a0c56c",
   "metadata": {},
   "outputs": [],
   "source": [
    "import numpy as np\n",
    "import pandas as pd\n",
    "import matplotlib.pyplot as plt\n",
    "import seaborn as sn\n",
    "from sklearn.linear_model import LinearRegression\n",
    "from sklearn.model_selection import train_test_split\n",
    "%matplotlib inline"
   ]
  },
  {
   "cell_type": "markdown",
   "id": "5a78d910",
   "metadata": {},
   "source": [
    "### Reading The Data from data source"
   ]
  },
  {
   "cell_type": "code",
   "execution_count": 4,
   "id": "03f2e796",
   "metadata": {},
   "outputs": [],
   "source": [
    "student = pd.read_csv(\"http://bit.ly/w-data\")"
   ]
  },
  {
   "cell_type": "markdown",
   "id": "b506aad1",
   "metadata": {},
   "source": [
    "### Data Imported sucessfully"
   ]
  },
  {
   "cell_type": "code",
   "execution_count": 5,
   "id": "be459223",
   "metadata": {},
   "outputs": [
    {
     "data": {
      "text/html": [
       "<div>\n",
       "<style scoped>\n",
       "    .dataframe tbody tr th:only-of-type {\n",
       "        vertical-align: middle;\n",
       "    }\n",
       "\n",
       "    .dataframe tbody tr th {\n",
       "        vertical-align: top;\n",
       "    }\n",
       "\n",
       "    .dataframe thead th {\n",
       "        text-align: right;\n",
       "    }\n",
       "</style>\n",
       "<table border=\"1\" class=\"dataframe\">\n",
       "  <thead>\n",
       "    <tr style=\"text-align: right;\">\n",
       "      <th></th>\n",
       "      <th>Hours</th>\n",
       "      <th>Scores</th>\n",
       "    </tr>\n",
       "  </thead>\n",
       "  <tbody>\n",
       "    <tr>\n",
       "      <th>0</th>\n",
       "      <td>2.5</td>\n",
       "      <td>21</td>\n",
       "    </tr>\n",
       "    <tr>\n",
       "      <th>1</th>\n",
       "      <td>5.1</td>\n",
       "      <td>47</td>\n",
       "    </tr>\n",
       "    <tr>\n",
       "      <th>2</th>\n",
       "      <td>3.2</td>\n",
       "      <td>27</td>\n",
       "    </tr>\n",
       "    <tr>\n",
       "      <th>3</th>\n",
       "      <td>8.5</td>\n",
       "      <td>75</td>\n",
       "    </tr>\n",
       "    <tr>\n",
       "      <th>4</th>\n",
       "      <td>3.5</td>\n",
       "      <td>30</td>\n",
       "    </tr>\n",
       "  </tbody>\n",
       "</table>\n",
       "</div>"
      ],
      "text/plain": [
       "   Hours  Scores\n",
       "0    2.5      21\n",
       "1    5.1      47\n",
       "2    3.2      27\n",
       "3    8.5      75\n",
       "4    3.5      30"
      ]
     },
     "execution_count": 5,
     "metadata": {},
     "output_type": "execute_result"
    }
   ],
   "source": [
    "student.head()"
   ]
  },
  {
   "cell_type": "code",
   "execution_count": 6,
   "id": "b4dd28ca",
   "metadata": {},
   "outputs": [
    {
     "data": {
      "text/html": [
       "<div>\n",
       "<style scoped>\n",
       "    .dataframe tbody tr th:only-of-type {\n",
       "        vertical-align: middle;\n",
       "    }\n",
       "\n",
       "    .dataframe tbody tr th {\n",
       "        vertical-align: top;\n",
       "    }\n",
       "\n",
       "    .dataframe thead th {\n",
       "        text-align: right;\n",
       "    }\n",
       "</style>\n",
       "<table border=\"1\" class=\"dataframe\">\n",
       "  <thead>\n",
       "    <tr style=\"text-align: right;\">\n",
       "      <th></th>\n",
       "      <th>Hours</th>\n",
       "      <th>Scores</th>\n",
       "    </tr>\n",
       "  </thead>\n",
       "  <tbody>\n",
       "    <tr>\n",
       "      <th>20</th>\n",
       "      <td>2.7</td>\n",
       "      <td>30</td>\n",
       "    </tr>\n",
       "    <tr>\n",
       "      <th>21</th>\n",
       "      <td>4.8</td>\n",
       "      <td>54</td>\n",
       "    </tr>\n",
       "    <tr>\n",
       "      <th>22</th>\n",
       "      <td>3.8</td>\n",
       "      <td>35</td>\n",
       "    </tr>\n",
       "    <tr>\n",
       "      <th>23</th>\n",
       "      <td>6.9</td>\n",
       "      <td>76</td>\n",
       "    </tr>\n",
       "    <tr>\n",
       "      <th>24</th>\n",
       "      <td>7.8</td>\n",
       "      <td>86</td>\n",
       "    </tr>\n",
       "  </tbody>\n",
       "</table>\n",
       "</div>"
      ],
      "text/plain": [
       "    Hours  Scores\n",
       "20    2.7      30\n",
       "21    4.8      54\n",
       "22    3.8      35\n",
       "23    6.9      76\n",
       "24    7.8      86"
      ]
     },
     "execution_count": 6,
     "metadata": {},
     "output_type": "execute_result"
    }
   ],
   "source": [
    "student.tail()"
   ]
  },
  {
   "cell_type": "code",
   "execution_count": 7,
   "id": "5cb471df",
   "metadata": {},
   "outputs": [
    {
     "data": {
      "text/html": [
       "<div>\n",
       "<style scoped>\n",
       "    .dataframe tbody tr th:only-of-type {\n",
       "        vertical-align: middle;\n",
       "    }\n",
       "\n",
       "    .dataframe tbody tr th {\n",
       "        vertical-align: top;\n",
       "    }\n",
       "\n",
       "    .dataframe thead th {\n",
       "        text-align: right;\n",
       "    }\n",
       "</style>\n",
       "<table border=\"1\" class=\"dataframe\">\n",
       "  <thead>\n",
       "    <tr style=\"text-align: right;\">\n",
       "      <th></th>\n",
       "      <th>Hours</th>\n",
       "      <th>Scores</th>\n",
       "    </tr>\n",
       "  </thead>\n",
       "  <tbody>\n",
       "    <tr>\n",
       "      <th>count</th>\n",
       "      <td>25.000000</td>\n",
       "      <td>25.000000</td>\n",
       "    </tr>\n",
       "    <tr>\n",
       "      <th>mean</th>\n",
       "      <td>5.012000</td>\n",
       "      <td>51.480000</td>\n",
       "    </tr>\n",
       "    <tr>\n",
       "      <th>std</th>\n",
       "      <td>2.525094</td>\n",
       "      <td>25.286887</td>\n",
       "    </tr>\n",
       "    <tr>\n",
       "      <th>min</th>\n",
       "      <td>1.100000</td>\n",
       "      <td>17.000000</td>\n",
       "    </tr>\n",
       "    <tr>\n",
       "      <th>25%</th>\n",
       "      <td>2.700000</td>\n",
       "      <td>30.000000</td>\n",
       "    </tr>\n",
       "    <tr>\n",
       "      <th>50%</th>\n",
       "      <td>4.800000</td>\n",
       "      <td>47.000000</td>\n",
       "    </tr>\n",
       "    <tr>\n",
       "      <th>75%</th>\n",
       "      <td>7.400000</td>\n",
       "      <td>75.000000</td>\n",
       "    </tr>\n",
       "    <tr>\n",
       "      <th>max</th>\n",
       "      <td>9.200000</td>\n",
       "      <td>95.000000</td>\n",
       "    </tr>\n",
       "  </tbody>\n",
       "</table>\n",
       "</div>"
      ],
      "text/plain": [
       "           Hours     Scores\n",
       "count  25.000000  25.000000\n",
       "mean    5.012000  51.480000\n",
       "std     2.525094  25.286887\n",
       "min     1.100000  17.000000\n",
       "25%     2.700000  30.000000\n",
       "50%     4.800000  47.000000\n",
       "75%     7.400000  75.000000\n",
       "max     9.200000  95.000000"
      ]
     },
     "execution_count": 7,
     "metadata": {},
     "output_type": "execute_result"
    }
   ],
   "source": [
    "student.describe()"
   ]
  },
  {
   "cell_type": "code",
   "execution_count": 10,
   "id": "8bd3beba",
   "metadata": {},
   "outputs": [
    {
     "data": {
      "text/plain": [
       "(25, 2)"
      ]
     },
     "execution_count": 10,
     "metadata": {},
     "output_type": "execute_result"
    }
   ],
   "source": [
    "student.shape"
   ]
  },
  {
   "cell_type": "code",
   "execution_count": 11,
   "id": "86569db5",
   "metadata": {},
   "outputs": [
    {
     "name": "stdout",
     "output_type": "stream",
     "text": [
      "<class 'pandas.core.frame.DataFrame'>\n",
      "RangeIndex: 25 entries, 0 to 24\n",
      "Data columns (total 2 columns):\n",
      " #   Column  Non-Null Count  Dtype  \n",
      "---  ------  --------------  -----  \n",
      " 0   Hours   25 non-null     float64\n",
      " 1   Scores  25 non-null     int64  \n",
      "dtypes: float64(1), int64(1)\n",
      "memory usage: 528.0 bytes\n"
     ]
    }
   ],
   "source": [
    "student.info()"
   ]
  },
  {
   "cell_type": "markdown",
   "id": "0cfebf52",
   "metadata": {},
   "source": [
    "### checking the missing values"
   ]
  },
  {
   "cell_type": "code",
   "execution_count": 12,
   "id": "19161b71",
   "metadata": {},
   "outputs": [
    {
     "data": {
      "text/plain": [
       "Hours     0\n",
       "Scores    0\n",
       "dtype: int64"
      ]
     },
     "execution_count": 12,
     "metadata": {},
     "output_type": "execute_result"
    }
   ],
   "source": [
    "student.isnull().sum()"
   ]
  },
  {
   "cell_type": "markdown",
   "id": "ef581b37",
   "metadata": {},
   "source": [
    "### Checking the correlation between hours and study"
   ]
  },
  {
   "cell_type": "code",
   "execution_count": 13,
   "id": "068e53e2",
   "metadata": {},
   "outputs": [
    {
     "data": {
      "text/html": [
       "<div>\n",
       "<style scoped>\n",
       "    .dataframe tbody tr th:only-of-type {\n",
       "        vertical-align: middle;\n",
       "    }\n",
       "\n",
       "    .dataframe tbody tr th {\n",
       "        vertical-align: top;\n",
       "    }\n",
       "\n",
       "    .dataframe thead th {\n",
       "        text-align: right;\n",
       "    }\n",
       "</style>\n",
       "<table border=\"1\" class=\"dataframe\">\n",
       "  <thead>\n",
       "    <tr style=\"text-align: right;\">\n",
       "      <th></th>\n",
       "      <th>Hours</th>\n",
       "      <th>Scores</th>\n",
       "    </tr>\n",
       "  </thead>\n",
       "  <tbody>\n",
       "    <tr>\n",
       "      <th>Hours</th>\n",
       "      <td>1.000000</td>\n",
       "      <td>0.976191</td>\n",
       "    </tr>\n",
       "    <tr>\n",
       "      <th>Scores</th>\n",
       "      <td>0.976191</td>\n",
       "      <td>1.000000</td>\n",
       "    </tr>\n",
       "  </tbody>\n",
       "</table>\n",
       "</div>"
      ],
      "text/plain": [
       "           Hours    Scores\n",
       "Hours   1.000000  0.976191\n",
       "Scores  0.976191  1.000000"
      ]
     },
     "execution_count": 13,
     "metadata": {},
     "output_type": "execute_result"
    }
   ],
   "source": [
    "student.corr()"
   ]
  },
  {
   "cell_type": "markdown",
   "id": "dd40deb8",
   "metadata": {},
   "source": [
    "### Data Visualization"
   ]
  },
  {
   "cell_type": "markdown",
   "id": "13831767",
   "metadata": {},
   "source": [
    "### Visualization with line plot"
   ]
  },
  {
   "cell_type": "code",
   "execution_count": 14,
   "id": "bb066225",
   "metadata": {},
   "outputs": [
    {
     "data": {
      "image/png": "[encoded data removed]",
      "text/plain": [
       "<Figure size 432x288 with 1 Axes>"
      ]
     },
     "metadata": {},
     "output_type": "display_data"
    }
   ],
   "source": [
    "plt.style.use('ggplot')\n",
    "student.plot(kind='line')\n",
    "plt.title('Hours vs Percentage')\n",
    "plt.xlabel('Hourse studied')\n",
    "plt.ylabel('Percentage Score')\n",
    "plt.show()"
   ]
  },
  {
   "cell_type": "markdown",
   "id": "cb172054",
   "metadata": {},
   "source": [
    "### Data Visualisation with area plot"
   ]
  },
  {
   "cell_type": "code",
   "execution_count": 17,
   "id": "310ae8a4",
   "metadata": {},
   "outputs": [
    {
     "data": {
      "image/png": "[encoded data removed]",
      "text/plain": [
       "<Figure size 1080x720 with 1 Axes>"
      ]
     },
     "metadata": {},
     "output_type": "display_data"
    }
   ],
   "source": [
    "xmin = min(student. Hours)\n",
    "xmax = max(student. Hours)\n",
    "student.plot(kind='area',alpha=0.8, stacked=True, figsize=(15,10),xlim=(xmin, xmax))\n",
    "plt.title('Hours vs Score',size=15)\n",
    "plt.xlabel('Hours', size=15)\n",
    "plt.ylabel('Score',size=15)\n",
    "plt.show()"
   ]
  },
  {
   "cell_type": "markdown",
   "id": "b37d210e",
   "metadata": {},
   "source": [
    "### Data visualizing with scatter plot"
   ]
  },
  {
   "cell_type": "code",
   "execution_count": 19,
   "id": "876330c3",
   "metadata": {},
   "outputs": [
    {
     "data": {
      "image/png": "[encoded data removed]",
      "text/plain": [
       "<Figure size 720x576 with 1 Axes>"
      ]
     },
     "metadata": {},
     "output_type": "display_data"
    }
   ],
   "source": [
    "student.plot(kind='scatter',x='Hours', y='Scores', color='g',figsize=(10,8))\n",
    "plt.title('Hours vs Percentage')\n",
    "plt.xlabel('Hours Studied')\n",
    "plt.ylabel('Percentage scores')\n",
    "plt.show()"
   ]
  },
  {
   "cell_type": "markdown",
   "id": "d0db4030",
   "metadata": {},
   "source": [
    "### By Visulization we come to know that this problem can be easily solved by linear regression"
   ]
  },
  {
   "cell_type": "markdown",
   "id": "7489f0d7",
   "metadata": {},
   "source": [
    "### Modeling the data"
   ]
  },
  {
   "cell_type": "code",
   "execution_count": 20,
   "id": "ad076ed3",
   "metadata": {},
   "outputs": [
    {
     "name": "stdout",
     "output_type": "stream",
     "text": [
      "Training Complete\n",
      "\n",
      "coehhicient:  [[9.94061514]]\n",
      "Intercept:  [1.50791048]\n"
     ]
    }
   ],
   "source": [
    "x = np.asanyarray(student [['Hours']])\n",
    "y = np.asanyarray(student [[ 'Scores']])\n",
    "\n",
    "# Using train test split to split the data in train and test Data\n",
    "train_x, test_x, train_y, test_y=train_test_split(x,y,test_size=0.2, random_state=2)\n",
    "regressor = LinearRegression()\n",
    "regressor.fit(train_x, train_y)\n",
    "print(\"Training Complete\\n\")\n",
    "print('coehhicient: ', regressor.coef_)\n",
    "print('Intercept: ',regressor.intercept_)"
   ]
  },
  {
   "cell_type": "markdown",
   "id": "ee7fdbb7",
   "metadata": {},
   "source": [
    "### we can also plot the fit line over the data in single linear regression"
   ]
  },
  {
   "cell_type": "code",
   "execution_count": 21,
   "id": "130058be",
   "metadata": {},
   "outputs": [
    {
     "data": {
      "image/png": "[encoded data removed]",
      "text/plain": [
       "<Figure size 360x288 with 1 Axes>"
      ]
     },
     "metadata": {},
     "output_type": "display_data"
    }
   ],
   "source": [
    "student.plot(kind='scatter',x='Hours',y='Scores', figsize=(5,4),color='r')\n",
    "plt.plot(train_x, regressor.coef_[0] *train_x + regressor.intercept_,color='b')\n",
    "plt.title('Hours vs Percentage')\n",
    "plt.xlabel('Hours Studied')\n",
    "plt.ylabel('Percentage Score')\n",
    "plt.show()"
   ]
  },
  {
   "cell_type": "markdown",
   "id": "588474ca",
   "metadata": {},
   "source": [
    "### The blue line is the best fit line for this data"
   ]
  },
  {
   "cell_type": "markdown",
   "id": "cf0cacdb",
   "metadata": {},
   "source": [
    "### Evaluation of model"
   ]
  },
  {
   "cell_type": "code",
   "execution_count": 22,
   "id": "888f76d1",
   "metadata": {},
   "outputs": [
    {
     "name": "stdout",
     "output_type": "stream",
     "text": [
      "Mean Absolute Error: 4.877039354964476\n",
      "R2-score: 0.98\n"
     ]
    }
   ],
   "source": [
    "# Using metrics to find mean obsolute error and r2 to see the accuracy\n",
    "from sklearn import metrics\n",
    "from sklearn.metrics import r2_score\n",
    "y_pred=regressor.predict(test_x)\n",
    "print('Mean Absolute Error: {}'.format (metrics.mean_absolute_error(y_pred, test_y)))\n",
    "print(\"R2-score: %.2f\" % r2_score(y_pred, test_y))"
   ]
  },
  {
   "cell_type": "markdown",
   "id": "31f92ff6",
   "metadata": {},
   "source": [
    "### Mean absolute Error: it is mean of absolute value of error r2-score: it is not the error but its the metric for accuracy for the model. Higher the r2 value higher is the accuracy of model. Best score is 1"
   ]
  },
  {
   "cell_type": "code",
   "execution_count": 23,
   "id": "8cdb907b",
   "metadata": {},
   "outputs": [],
   "source": [
    "# Comparing Actual vs predicted\n",
    "#student2 = pd. DataFrame({'Actual': test_y, 'Predicted': y_pred})\n",
    "#student2"
   ]
  },
  {
   "cell_type": "markdown",
   "id": "2d62c651",
   "metadata": {},
   "source": [
    "### Predicting the score with the single input value"
   ]
  },
  {
   "cell_type": "code",
   "execution_count": 25,
   "id": "b6e10168",
   "metadata": {},
   "outputs": [
    {
     "name": "stdout",
     "output_type": "stream",
     "text": [
      "No. of hours = 9.25\n",
      "predicted Score = [93.45860056]\n"
     ]
    }
   ],
   "source": [
    "hours = 9.25\n",
    "predicted_score= regressor.predict([[hours ]])\n",
    "print (f'No. of hours = {hours}')\n",
    "print (f'predicted Score = {predicted_score[0]}')"
   ]
  },
  {
   "cell_type": "code",
   "execution_count": null,
   "id": "a4ed4824",
   "metadata": {},
   "outputs": [],
   "source": []
  }
 ],
 "metadata": {
  "kernelspec": {
   "display_name": "Python 3 (ipykernel)",
   "language": "python",
   "name": "python3"
  },
  "language_info": {
   "codemirror_mode": {
    "name": "ipython",
    "version": 3
   },
   "file_extension": ".py",
   "mimetype": "text/x-python",
   "name": "python",
   "nbconvert_exporter": "python",
   "pygments_lexer": "ipython3",
   "version": "3.9.13"
  }
 },
 "nbformat": 4,
 "nbformat_minor": 5
}
